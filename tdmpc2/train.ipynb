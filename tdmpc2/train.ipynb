{
 "cells": [
  {
   "cell_type": "code",
   "execution_count": null,
   "id": "initial_id",
   "metadata": {
    "ExecuteTime": {
     "end_time": "2024-12-01T10:28:06.760039Z",
     "start_time": "2024-12-01T10:28:06.683696Z"
    },
    "collapsed": true
   },
   "outputs": [
    {
     "ename": "ValueError",
     "evalue": "GlobalHydra is already initialized, call GlobalHydra.instance().clear() if you want to re-initialize",
     "output_type": "error",
     "traceback": [
      "\u001b[0;31m---------------------------------------------------------------------------\u001b[0m",
      "\u001b[0;31mValueError\u001b[0m                                Traceback (most recent call last)",
      "Cell \u001b[0;32mIn[16], line 74\u001b[0m\n\u001b[1;32m     71\u001b[0m \ttrainer\u001b[38;5;241m.\u001b[39mtrain()\n\u001b[1;32m     72\u001b[0m \t\u001b[38;5;28mprint\u001b[39m(\u001b[38;5;124m'\u001b[39m\u001b[38;5;130;01m\\n\u001b[39;00m\u001b[38;5;124mTraining completed successfully\u001b[39m\u001b[38;5;124m'\u001b[39m)\n\u001b[0;32m---> 74\u001b[0m \u001b[43minitialize\u001b[49m\u001b[43m(\u001b[49m\u001b[43mversion_base\u001b[49m\u001b[38;5;241;43m=\u001b[39;49m\u001b[38;5;28;43;01mNone\u001b[39;49;00m\u001b[43m,\u001b[49m\u001b[43m \u001b[49m\u001b[43mconfig_path\u001b[49m\u001b[38;5;241;43m=\u001b[39;49m\u001b[38;5;124;43m\"\u001b[39;49m\u001b[38;5;124;43m.\u001b[39;49m\u001b[38;5;124;43m\"\u001b[39;49m\u001b[43m)\u001b[49m\n\u001b[1;32m     75\u001b[0m cfg \u001b[38;5;241m=\u001b[39m compose(config_name\u001b[38;5;241m=\u001b[39m\u001b[38;5;124m\"\u001b[39m\u001b[38;5;124mconfig\u001b[39m\u001b[38;5;124m\"\u001b[39m)\n\u001b[1;32m     76\u001b[0m train(cfg)\n",
      "File \u001b[0;32m~/miniconda3/envs/tdmpc2/lib/python3.10/site-packages/hydra/initialize.py:91\u001b[0m, in \u001b[0;36minitialize.__init__\u001b[0;34m(self, config_path, job_name, caller_stack_depth, version_base)\u001b[0m\n\u001b[1;32m     86\u001b[0m \u001b[38;5;28;01mif\u001b[39;00m job_name \u001b[38;5;129;01mis\u001b[39;00m \u001b[38;5;28;01mNone\u001b[39;00m:\n\u001b[1;32m     87\u001b[0m     job_name \u001b[38;5;241m=\u001b[39m detect_task_name(\n\u001b[1;32m     88\u001b[0m         calling_file\u001b[38;5;241m=\u001b[39mcalling_file, calling_module\u001b[38;5;241m=\u001b[39mcalling_module\n\u001b[1;32m     89\u001b[0m     )\n\u001b[0;32m---> 91\u001b[0m \u001b[43mHydra\u001b[49m\u001b[38;5;241;43m.\u001b[39;49m\u001b[43mcreate_main_hydra_file_or_module\u001b[49m\u001b[43m(\u001b[49m\n\u001b[1;32m     92\u001b[0m \u001b[43m    \u001b[49m\u001b[43mcalling_file\u001b[49m\u001b[38;5;241;43m=\u001b[39;49m\u001b[43mcalling_file\u001b[49m\u001b[43m,\u001b[49m\n\u001b[1;32m     93\u001b[0m \u001b[43m    \u001b[49m\u001b[43mcalling_module\u001b[49m\u001b[38;5;241;43m=\u001b[39;49m\u001b[43mcalling_module\u001b[49m\u001b[43m,\u001b[49m\n\u001b[1;32m     94\u001b[0m \u001b[43m    \u001b[49m\u001b[43mconfig_path\u001b[49m\u001b[38;5;241;43m=\u001b[39;49m\u001b[43mconfig_path\u001b[49m\u001b[43m,\u001b[49m\n\u001b[1;32m     95\u001b[0m \u001b[43m    \u001b[49m\u001b[43mjob_name\u001b[49m\u001b[38;5;241;43m=\u001b[39;49m\u001b[43mjob_name\u001b[49m\u001b[43m,\u001b[49m\n\u001b[1;32m     96\u001b[0m \u001b[43m\u001b[49m\u001b[43m)\u001b[49m\n",
      "File \u001b[0;32m~/miniconda3/envs/tdmpc2/lib/python3.10/site-packages/hydra/_internal/hydra.py:53\u001b[0m, in \u001b[0;36mHydra.create_main_hydra_file_or_module\u001b[0;34m(cls, calling_file, calling_module, config_path, job_name)\u001b[0m\n\u001b[1;32m     41\u001b[0m \u001b[38;5;129m@classmethod\u001b[39m\n\u001b[1;32m     42\u001b[0m \u001b[38;5;28;01mdef\u001b[39;00m \u001b[38;5;21mcreate_main_hydra_file_or_module\u001b[39m(\n\u001b[1;32m     43\u001b[0m     \u001b[38;5;28mcls\u001b[39m: Type[\u001b[38;5;124m\"\u001b[39m\u001b[38;5;124mHydra\u001b[39m\u001b[38;5;124m\"\u001b[39m],\n\u001b[0;32m   (...)\u001b[0m\n\u001b[1;32m     47\u001b[0m     job_name: \u001b[38;5;28mstr\u001b[39m,\n\u001b[1;32m     48\u001b[0m ) \u001b[38;5;241m-\u001b[39m\u001b[38;5;241m>\u001b[39m \u001b[38;5;124m\"\u001b[39m\u001b[38;5;124mHydra\u001b[39m\u001b[38;5;124m\"\u001b[39m:\n\u001b[1;32m     49\u001b[0m     config_search_path \u001b[38;5;241m=\u001b[39m create_automatic_config_search_path(\n\u001b[1;32m     50\u001b[0m         calling_file, calling_module, config_path\n\u001b[1;32m     51\u001b[0m     )\n\u001b[0;32m---> 53\u001b[0m     \u001b[38;5;28;01mreturn\u001b[39;00m \u001b[43mHydra\u001b[49m\u001b[38;5;241;43m.\u001b[39;49m\u001b[43mcreate_main_hydra2\u001b[49m\u001b[43m(\u001b[49m\u001b[43mjob_name\u001b[49m\u001b[43m,\u001b[49m\u001b[43m \u001b[49m\u001b[43mconfig_search_path\u001b[49m\u001b[43m)\u001b[49m\n",
      "File \u001b[0;32m~/miniconda3/envs/tdmpc2/lib/python3.10/site-packages/hydra/_internal/hydra.py:68\u001b[0m, in \u001b[0;36mHydra.create_main_hydra2\u001b[0;34m(cls, task_name, config_search_path)\u001b[0m\n\u001b[1;32m     65\u001b[0m hydra \u001b[38;5;241m=\u001b[39m \u001b[38;5;28mcls\u001b[39m(task_name\u001b[38;5;241m=\u001b[39mtask_name, config_loader\u001b[38;5;241m=\u001b[39mconfig_loader)\n\u001b[1;32m     66\u001b[0m \u001b[38;5;28;01mfrom\u001b[39;00m \u001b[38;5;21;01mhydra\u001b[39;00m\u001b[38;5;21;01m.\u001b[39;00m\u001b[38;5;21;01mcore\u001b[39;00m\u001b[38;5;21;01m.\u001b[39;00m\u001b[38;5;21;01mglobal_hydra\u001b[39;00m \u001b[38;5;28;01mimport\u001b[39;00m GlobalHydra\n\u001b[0;32m---> 68\u001b[0m \u001b[43mGlobalHydra\u001b[49m\u001b[38;5;241;43m.\u001b[39;49m\u001b[43minstance\u001b[49m\u001b[43m(\u001b[49m\u001b[43m)\u001b[49m\u001b[38;5;241;43m.\u001b[39;49m\u001b[43minitialize\u001b[49m\u001b[43m(\u001b[49m\u001b[43mhydra\u001b[49m\u001b[43m)\u001b[49m\n\u001b[1;32m     69\u001b[0m \u001b[38;5;28;01mreturn\u001b[39;00m hydra\n",
      "File \u001b[0;32m~/miniconda3/envs/tdmpc2/lib/python3.10/site-packages/hydra/core/global_hydra.py:16\u001b[0m, in \u001b[0;36mGlobalHydra.initialize\u001b[0;34m(self, hydra)\u001b[0m\n\u001b[1;32m     14\u001b[0m \u001b[38;5;28;01massert\u001b[39;00m \u001b[38;5;28misinstance\u001b[39m(hydra, Hydra), \u001b[38;5;124mf\u001b[39m\u001b[38;5;124m\"\u001b[39m\u001b[38;5;124mUnexpected Hydra type : \u001b[39m\u001b[38;5;132;01m{\u001b[39;00m\u001b[38;5;28mtype\u001b[39m(hydra)\u001b[38;5;132;01m}\u001b[39;00m\u001b[38;5;124m\"\u001b[39m\n\u001b[1;32m     15\u001b[0m \u001b[38;5;28;01mif\u001b[39;00m \u001b[38;5;28mself\u001b[39m\u001b[38;5;241m.\u001b[39mis_initialized():\n\u001b[0;32m---> 16\u001b[0m     \u001b[38;5;28;01mraise\u001b[39;00m \u001b[38;5;167;01mValueError\u001b[39;00m(\n\u001b[1;32m     17\u001b[0m         \u001b[38;5;124m\"\u001b[39m\u001b[38;5;124mGlobalHydra is already initialized, call GlobalHydra.instance().clear() if you want to re-initialize\u001b[39m\u001b[38;5;124m\"\u001b[39m\n\u001b[1;32m     18\u001b[0m     )\n\u001b[1;32m     19\u001b[0m \u001b[38;5;28mself\u001b[39m\u001b[38;5;241m.\u001b[39mhydra \u001b[38;5;241m=\u001b[39m hydra\n",
      "\u001b[0;31mValueError\u001b[0m: GlobalHydra is already initialized, call GlobalHydra.instance().clear() if you want to re-initialize"
     ]
    }
   ],
   "source": [
    "from hydra import compose, initialize\n",
    "import os\n",
    "os.environ['MUJOCO_GL'] = 'glfw'\n",
    "os.environ['LAZY_LEGACY_OP'] = '0'\n",
    "os.environ['TORCHDYNAMO_INLINE_INBUILT_NN_MODULES'] = \"1\"\n",
    "os.environ['TORCH_LOGS'] = \"+recompiles\"\n",
    "import warnings\n",
    "warnings.filterwarnings('ignore')\n",
    "import torch\n",
    "\n",
    "import hydra\n",
    "from termcolor import colored\n",
    "\n",
    "from common.parser import parse_cfg\n",
    "from common.seed import set_seed\n",
    "from common.buffer import Buffer\n",
    "from envs import make_env\n",
    "from tdmpc2 import TDMPC2\n",
    "from trainer.offline_trainer import OfflineTrainer\n",
    "from trainer.online_trainer import OnlineTrainer\n",
    "from common.logger import Logger\n",
    "\n",
    "torch.backends.cudnn.benchmark = True\n",
    "torch.set_float32_matmul_precision('high')\n",
    "\n",
    "\n",
    "def train(cfg: dict):\n",
    "\t\"\"\"\n",
    "\tScript for training single-task / multi-task TD-MPC2 agents.\n",
    "\n",
    "\tMost relevant args:\n",
    "\t\t`task`: task name (or mt30/mt80 for multi-task training)\n",
    "\t\t`model_size`: model size, must be one of `[1, 5, 19, 48, 317]` (default: 5)\n",
    "\t\t`steps`: number of training/environment steps (default: 10M)\n",
    "\t\t`seed`: random seed (default: 1)\n",
    "\n",
    "\tSee config.yaml for a full list of args.\n",
    "\n",
    "\tExample usage:\n",
    "\t```\n",
    "\t\t$ python train.py task=mt80 model_size=48\n",
    "\t\t$ python train.py task=mt30 model_size=317\n",
    "\t\t$ python train.py task=dog-run steps=7000000\n",
    "\t```\n",
    "\t\"\"\"\n",
    "\tassert torch.cuda.is_available()\n",
    "\tassert cfg.steps > 0, 'Must train for at least 1 step.'\n",
    "\n",
    "\tuse_tensorboard = cfg.get('use_tensorboard', False)\n",
    "\ttensorboard_is_available = False\n",
    "\tif use_tensorboard:\n",
    "\t\ttry:\n",
    "\t\t\tfrom torch.utils.tensorboard import SummaryWriter\n",
    "\t\t\ttensorboard_is_available = True\n",
    "\t\texcept ImportError:\n",
    "\t\t\tprint('Tensorboard is not available. Please install it with `pip install tensorboard`.')\n",
    "\tcfg = parse_cfg(cfg)\n",
    "\tset_seed(cfg.seed)\n",
    "\tprint(colored('Work dir:', 'yellow', attrs=['bold']), cfg.work_dir)\n",
    "\n",
    "\tcfg.use_tensorboard = use_tensorboard and tensorboard_is_available\n",
    "\n",
    "\ttrainer_cls = OfflineTrainer if cfg.multitask else OnlineTrainer\n",
    "\ttrainer = trainer_cls(\n",
    "\t\tcfg=cfg,\n",
    "\t\tenv=make_env(cfg),\n",
    "\t\tagent=TDMPC2(cfg),\n",
    "\t\tbuffer=Buffer(cfg),\n",
    "\t\tlogger=Logger(cfg),\n",
    "\t)\n",
    "\ttrainer.train()\n",
    "\tprint('\\nTraining completed successfully')\n",
    "\n",
    "initialize(version_base=None, config_path=\".\")\n",
    "cfg = compose(config_name=\"config\")\n",
    "train(cfg)"
   ]
  },
  {
   "cell_type": "code",
   "execution_count": null,
   "id": "f6c1c139",
   "metadata": {},
   "outputs": [],
   "source": []
  },
  {
   "cell_type": "code",
   "execution_count": null,
   "id": "2981e83a",
   "metadata": {},
   "outputs": [],
   "source": []
  },
  {
   "cell_type": "code",
   "execution_count": null,
   "id": "e45d433b",
   "metadata": {},
   "outputs": [],
   "source": []
  },
  {
   "cell_type": "code",
   "execution_count": null,
   "id": "1c015e0b",
   "metadata": {},
   "outputs": [],
   "source": []
  }
 ],
 "metadata": {
  "kernelspec": {
   "display_name": "tdmpc2",
   "language": "python",
   "name": "python3"
  },
  "language_info": {
   "codemirror_mode": {
    "name": "ipython",
    "version": 3
   },
   "file_extension": ".py",
   "mimetype": "text/x-python",
   "name": "python",
   "nbconvert_exporter": "python",
   "pygments_lexer": "ipython3",
   "version": "3.10.15"
  }
 },
 "nbformat": 4,
 "nbformat_minor": 5
}
